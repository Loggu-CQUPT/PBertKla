{
 "cells": [
  {
   "cell_type": "code",
   "execution_count": 33,
   "id": "3d641d44-5f78-4298-b24f-8d4fc241acfd",
   "metadata": {},
   "outputs": [],
   "source": [
    "import os\n",
    "import pandas as pd\n",
    "\n",
    "DATA_PATH='/home/G/user_students/loggu/project_kla/data/45AA/cdhit30/'\n",
    "\n",
    "def read_file_as_dict(file_path):\n",
    "    data_dict = {}  \n",
    "    with open(file_path, 'r') as f:\n",
    "        lines = f.readlines()\n",
    "        # 遍历文件内容，按每两行读取一个键值对\n",
    "        for i in range(0, len(lines), 2):\n",
    "            key = lines[i].strip()  # 获取key，并去掉可能的换行符\n",
    "            if i + 1 < len(lines):  # 确保存在下一行作为value\n",
    "                value = lines[i + 1].strip()  # 获取value\n",
    "                data_dict[key] = value\n",
    "    df = pd.DataFrame.from_dict(data_dict, orient='index',columns=['seq'])\n",
    "    df = df.reset_index().rename(columns = {'index':'label'})\n",
    "    return df\n",
    "\n",
    "df1 = read_file_as_dict(DATA_PATH+'positivetotal_cdhit30.fasta')\n",
    "df2 = read_file_as_dict(DATA_PATH+'negativetotal_cdhit30.fasta')\n",
    "\n",
    "df=pd.concat([df1,df2.sample(n=len(df1), random_state=539)])\n",
    "df=df.sample(frac=1,random_state=349)\n",
    "\n",
    "df.to_csv(DATA_PATH+\"45AA_cdhit30_ori.csv\",index=False)\n",
    "df['label'] = df['label'].str.split('|', expand=True)[1]\n",
    "df.to_csv(DATA_PATH+\"45AA_cdhit30_file.csv\",index=False)\n",
    "df[:int(len(df)*0.8)].to_csv(DATA_PATH+\"45AA_cdhit30_train.csv\",index=False)\n",
    "df[int(len(df)*0.8):].to_csv(DATA_PATH+\"45AA_cdhit30_test.csv\",index=False)"
   ]
  },
  {
   "cell_type": "code",
   "execution_count": 34,
   "id": "02e3ce4c-5529-4f4c-a996-33560547628b",
   "metadata": {},
   "outputs": [
    {
     "data": {
      "text/html": [
       "<div>\n",
       "<style scoped>\n",
       "    .dataframe tbody tr th:only-of-type {\n",
       "        vertical-align: middle;\n",
       "    }\n",
       "\n",
       "    .dataframe tbody tr th {\n",
       "        vertical-align: top;\n",
       "    }\n",
       "\n",
       "    .dataframe thead th {\n",
       "        text-align: right;\n",
       "    }\n",
       "</style>\n",
       "<table border=\"1\" class=\"dataframe\">\n",
       "  <thead>\n",
       "    <tr style=\"text-align: right;\">\n",
       "      <th></th>\n",
       "      <th>label</th>\n",
       "      <th>seq</th>\n",
       "    </tr>\n",
       "  </thead>\n",
       "  <tbody>\n",
       "    <tr>\n",
       "      <th>176543</th>\n",
       "      <td>0</td>\n",
       "      <td>MLGVGDFYYELGVQIIEVCLALKHRNGGLITLEELHQQVLKGRGK</td>\n",
       "    </tr>\n",
       "    <tr>\n",
       "      <th>4613</th>\n",
       "      <td>1</td>\n",
       "      <td>IDDEVRILINDAYKRTVALLTEKKADVEKVALLLLEKEVLDKNDM</td>\n",
       "    </tr>\n",
       "    <tr>\n",
       "      <th>4415</th>\n",
       "      <td>1</td>\n",
       "      <td>PSKCHELSPREVKEMEQFVKKYKSEALGVGDVKLPCEMDAQGPKQ</td>\n",
       "    </tr>\n",
       "    <tr>\n",
       "      <th>1868</th>\n",
       "      <td>1</td>\n",
       "      <td>HRYIEIFKSSRAEVRTHYDPPRKLMAMQRPGPYDRPGAGRGYNSI</td>\n",
       "    </tr>\n",
       "    <tr>\n",
       "      <th>167523</th>\n",
       "      <td>0</td>\n",
       "      <td>CSAEDGACHCTPGWTGLFCTQRKPHLLASQPLRIPCCGLLATVGI</td>\n",
       "    </tr>\n",
       "  </tbody>\n",
       "</table>\n",
       "</div>"
      ],
      "text/plain": [
       "       label                                            seq\n",
       "176543     0  MLGVGDFYYELGVQIIEVCLALKHRNGGLITLEELHQQVLKGRGK\n",
       "4613       1  IDDEVRILINDAYKRTVALLTEKKADVEKVALLLLEKEVLDKNDM\n",
       "4415       1  PSKCHELSPREVKEMEQFVKKYKSEALGVGDVKLPCEMDAQGPKQ\n",
       "1868       1  HRYIEIFKSSRAEVRTHYDPPRKLMAMQRPGPYDRPGAGRGYNSI\n",
       "167523     0  CSAEDGACHCTPGWTGLFCTQRKPHLLASQPLRIPCCGLLATVGI"
      ]
     },
     "execution_count": 34,
     "metadata": {},
     "output_type": "execute_result"
    }
   ],
   "source": [
    "df.head()"
   ]
  },
  {
   "cell_type": "code",
   "execution_count": 5,
   "id": "702dc826-c2e6-4cea-83c1-fa37ccfa0639",
   "metadata": {},
   "outputs": [],
   "source": [
    "import pandas as pd\n",
    "datapath=\"/home/G/user_students/loggu/project_kla/DeepKla-main/DeepKla/train/\"\n",
    "data=pd.read_csv(datapath+\"45AA_cdhit30_file.csv\")\n",
    "datalist=[]\n",
    "for index,row in data.iterrows():\n",
    "    datalist.append(f'>{row['label']}\\n{row['seq']}\\n')\n",
    "with open(datapath+\"45AA_cdhit30_file.fasta\",'w')as f:\n",
    "    f.writelines(datalist)"
   ]
  },
  {
   "cell_type": "code",
   "execution_count": 4,
   "id": "127153c1-98a0-4ff6-a3bd-6311774dba45",
   "metadata": {},
   "outputs": [],
   "source": [
    "from Bio import SeqIO\n",
    "import pandas as pd\n",
    "label = []\n",
    "sequence = []\n",
    "DATA_PATH='/home/G/user_students/loggu/project_kla/data/45AA/cdhit30/'\n",
    "seq = ('/home/G/user_students/loggu/project_kla/data/45AA/validtotal.fasta')  #转换的文件\n",
    "for seq_record in SeqIO.parse(seq, \"fasta\"):\n",
    "    label.append(str(seq_record.id).split('|')[1])\n",
    "    sequence.append(str(seq_record.seq))\n",
    "df = pd.DataFrame(data={'label': label, 'seq': sequence})\n",
    "df.to_csv(DATA_PATH+\"45AA_cdhit30_independentvalidation.csv\",index=False)"
   ]
  },
  {
   "cell_type": "code",
   "execution_count": 3,
   "id": "08423de2-9154-4526-b199-e19258e41674",
   "metadata": {},
   "outputs": [
    {
     "data": {
      "text/html": [
       "<div>\n",
       "<style scoped>\n",
       "    .dataframe tbody tr th:only-of-type {\n",
       "        vertical-align: middle;\n",
       "    }\n",
       "\n",
       "    .dataframe tbody tr th {\n",
       "        vertical-align: top;\n",
       "    }\n",
       "\n",
       "    .dataframe thead th {\n",
       "        text-align: right;\n",
       "    }\n",
       "</style>\n",
       "<table border=\"1\" class=\"dataframe\">\n",
       "  <thead>\n",
       "    <tr style=\"text-align: right;\">\n",
       "      <th></th>\n",
       "      <th>label</th>\n",
       "      <th>seq</th>\n",
       "    </tr>\n",
       "  </thead>\n",
       "  <tbody>\n",
       "    <tr>\n",
       "      <th>0</th>\n",
       "      <td>1</td>\n",
       "      <td>EVLQHIQNLSPRTGKAYTGAAIKKLRKEVFSARNGSRKNQGVPQI</td>\n",
       "    </tr>\n",
       "    <tr>\n",
       "      <th>1</th>\n",
       "      <td>1</td>\n",
       "      <td>NLTLTVARSEHKVWSPLVTEEGKRHPYKMNLASEPQEVLHIGSAH</td>\n",
       "    </tr>\n",
       "    <tr>\n",
       "      <th>2</th>\n",
       "      <td>1</td>\n",
       "      <td>VARSEHKVWSPLVTEEGKRHPYKMNLASEPQEVLHIGSAHNRSAM</td>\n",
       "    </tr>\n",
       "    <tr>\n",
       "      <th>3</th>\n",
       "      <td>1</td>\n",
       "      <td>LQEILESEEKGDPNKPSGFRSVKAPVTKVAASIGNAQKLPMCDKC</td>\n",
       "    </tr>\n",
       "    <tr>\n",
       "      <th>4</th>\n",
       "      <td>1</td>\n",
       "      <td>ESEEKGDPNKPSGFRSVKAPVTKVAASIGNAQKLPMCDKCGTGIV</td>\n",
       "    </tr>\n",
       "  </tbody>\n",
       "</table>\n",
       "</div>"
      ],
      "text/plain": [
       "  label                                            seq\n",
       "0     1  EVLQHIQNLSPRTGKAYTGAAIKKLRKEVFSARNGSRKNQGVPQI\n",
       "1     1  NLTLTVARSEHKVWSPLVTEEGKRHPYKMNLASEPQEVLHIGSAH\n",
       "2     1  VARSEHKVWSPLVTEEGKRHPYKMNLASEPQEVLHIGSAHNRSAM\n",
       "3     1  LQEILESEEKGDPNKPSGFRSVKAPVTKVAASIGNAQKLPMCDKC\n",
       "4     1  ESEEKGDPNKPSGFRSVKAPVTKVAASIGNAQKLPMCDKCGTGIV"
      ]
     },
     "execution_count": 3,
     "metadata": {},
     "output_type": "execute_result"
    }
   ],
   "source": [
    "df.head()"
   ]
  },
  {
   "cell_type": "code",
   "execution_count": 21,
   "id": "77c880b1-3b56-40cc-906c-fa0b32434692",
   "metadata": {},
   "outputs": [],
   "source": [
    "import numpy as np\n"
   ]
  },
  {
   "cell_type": "code",
   "execution_count": 22,
   "id": "f25c110c-c6cc-43ce-ac31-fa23f4d10042",
   "metadata": {},
   "outputs": [
    {
     "data": {
      "text/html": [
       "<div>\n",
       "<style scoped>\n",
       "    .dataframe tbody tr th:only-of-type {\n",
       "        vertical-align: middle;\n",
       "    }\n",
       "\n",
       "    .dataframe tbody tr th {\n",
       "        vertical-align: top;\n",
       "    }\n",
       "\n",
       "    .dataframe thead th {\n",
       "        text-align: right;\n",
       "    }\n",
       "</style>\n",
       "<table border=\"1\" class=\"dataframe\">\n",
       "  <thead>\n",
       "    <tr style=\"text-align: right;\">\n",
       "      <th></th>\n",
       "      <th>label</th>\n",
       "      <th>seq</th>\n",
       "    </tr>\n",
       "  </thead>\n",
       "  <tbody>\n",
       "    <tr>\n",
       "      <th>0</th>\n",
       "      <td>0</td>\n",
       "      <td>MLGVGDFYYELGVQIIEVCLALKHRNGGLITLEELHQQVLKGRGK</td>\n",
       "    </tr>\n",
       "    <tr>\n",
       "      <th>1</th>\n",
       "      <td>1</td>\n",
       "      <td>IDDEVRILINDAYKRTVALLTEKKADVEKVALLLLEKEVLDKNDM</td>\n",
       "    </tr>\n",
       "    <tr>\n",
       "      <th>2</th>\n",
       "      <td>1</td>\n",
       "      <td>PSKCHELSPREVKEMEQFVKKYKSEALGVGDVKLPCEMDAQGPKQ</td>\n",
       "    </tr>\n",
       "    <tr>\n",
       "      <th>3</th>\n",
       "      <td>1</td>\n",
       "      <td>HRYIEIFKSSRAEVRTHYDPPRKLMAMQRPGPYDRPGAGRGYNSI</td>\n",
       "    </tr>\n",
       "    <tr>\n",
       "      <th>4</th>\n",
       "      <td>0</td>\n",
       "      <td>CSAEDGACHCTPGWTGLFCTQRKPHLLASQPLRIPCCGLLATVGI</td>\n",
       "    </tr>\n",
       "  </tbody>\n",
       "</table>\n",
       "</div>"
      ],
      "text/plain": [
       "   label                                            seq\n",
       "0      0  MLGVGDFYYELGVQIIEVCLALKHRNGGLITLEELHQQVLKGRGK\n",
       "1      1  IDDEVRILINDAYKRTVALLTEKKADVEKVALLLLEKEVLDKNDM\n",
       "2      1  PSKCHELSPREVKEMEQFVKKYKSEALGVGDVKLPCEMDAQGPKQ\n",
       "3      1  HRYIEIFKSSRAEVRTHYDPPRKLMAMQRPGPYDRPGAGRGYNSI\n",
       "4      0  CSAEDGACHCTPGWTGLFCTQRKPHLLASQPLRIPCCGLLATVGI"
      ]
     },
     "execution_count": 22,
     "metadata": {},
     "output_type": "execute_result"
    }
   ],
   "source": [
    "df.head()"
   ]
  },
  {
   "cell_type": "code",
   "execution_count": 25,
   "id": "e99a7377-214d-49a1-9f42-d0b648fb0132",
   "metadata": {},
   "outputs": [],
   "source": [
    "datapath=\"/home/G/user_students/loggu/project_kla/data/45AA/cdhit30/45AA_cdhit30_file.csv\"\n",
    "df = pd.read_csv(datapath)\n",
    "newdf=df[['seq','label']]\n",
    "newdf=newdf.rename(columns={'label':'target'})\n",
    "newdf=newdf.rename(columns={'seq':'sequence'})\n",
    "\n",
    "newdf['set'] = np.where(df.index < int(len(newdf) * 0.8), 'train', 'test')\n",
    "newdf['validation'] = np.where(df.index < int(len(newdf) * 0.1), 'TRUE', '')"
   ]
  },
  {
   "cell_type": "code",
   "execution_count": 26,
   "id": "217e84ef-9222-4c06-aecd-88d2b3c8c45d",
   "metadata": {},
   "outputs": [
    {
     "data": {
      "text/html": [
       "<div>\n",
       "<style scoped>\n",
       "    .dataframe tbody tr th:only-of-type {\n",
       "        vertical-align: middle;\n",
       "    }\n",
       "\n",
       "    .dataframe tbody tr th {\n",
       "        vertical-align: top;\n",
       "    }\n",
       "\n",
       "    .dataframe thead th {\n",
       "        text-align: right;\n",
       "    }\n",
       "</style>\n",
       "<table border=\"1\" class=\"dataframe\">\n",
       "  <thead>\n",
       "    <tr style=\"text-align: right;\">\n",
       "      <th></th>\n",
       "      <th>sequence</th>\n",
       "      <th>target</th>\n",
       "      <th>set</th>\n",
       "      <th>validation</th>\n",
       "    </tr>\n",
       "  </thead>\n",
       "  <tbody>\n",
       "    <tr>\n",
       "      <th>0</th>\n",
       "      <td>MLGVGDFYYELGVQIIEVCLALKHRNGGLITLEELHQQVLKGRGK</td>\n",
       "      <td>0</td>\n",
       "      <td>train</td>\n",
       "      <td>TRUE</td>\n",
       "    </tr>\n",
       "    <tr>\n",
       "      <th>1</th>\n",
       "      <td>IDDEVRILINDAYKRTVALLTEKKADVEKVALLLLEKEVLDKNDM</td>\n",
       "      <td>1</td>\n",
       "      <td>train</td>\n",
       "      <td>TRUE</td>\n",
       "    </tr>\n",
       "    <tr>\n",
       "      <th>2</th>\n",
       "      <td>PSKCHELSPREVKEMEQFVKKYKSEALGVGDVKLPCEMDAQGPKQ</td>\n",
       "      <td>1</td>\n",
       "      <td>train</td>\n",
       "      <td>TRUE</td>\n",
       "    </tr>\n",
       "    <tr>\n",
       "      <th>3</th>\n",
       "      <td>HRYIEIFKSSRAEVRTHYDPPRKLMAMQRPGPYDRPGAGRGYNSI</td>\n",
       "      <td>1</td>\n",
       "      <td>train</td>\n",
       "      <td>TRUE</td>\n",
       "    </tr>\n",
       "    <tr>\n",
       "      <th>4</th>\n",
       "      <td>CSAEDGACHCTPGWTGLFCTQRKPHLLASQPLRIPCCGLLATVGI</td>\n",
       "      <td>0</td>\n",
       "      <td>train</td>\n",
       "      <td>TRUE</td>\n",
       "    </tr>\n",
       "  </tbody>\n",
       "</table>\n",
       "</div>"
      ],
      "text/plain": [
       "                                        sequence  target    set validation\n",
       "0  MLGVGDFYYELGVQIIEVCLALKHRNGGLITLEELHQQVLKGRGK       0  train       TRUE\n",
       "1  IDDEVRILINDAYKRTVALLTEKKADVEKVALLLLEKEVLDKNDM       1  train       TRUE\n",
       "2  PSKCHELSPREVKEMEQFVKKYKSEALGVGDVKLPCEMDAQGPKQ       1  train       TRUE\n",
       "3  HRYIEIFKSSRAEVRTHYDPPRKLMAMQRPGPYDRPGAGRGYNSI       1  train       TRUE\n",
       "4  CSAEDGACHCTPGWTGLFCTQRKPHLLASQPLRIPCCGLLATVGI       0  train       TRUE"
      ]
     },
     "execution_count": 26,
     "metadata": {},
     "output_type": "execute_result"
    }
   ],
   "source": [
    "newdf.head()"
   ]
  },
  {
   "cell_type": "code",
   "execution_count": 16,
   "id": "ca1b2f52-161d-4b51-b5e2-f64c3319d601",
   "metadata": {},
   "outputs": [
    {
     "data": {
      "text/plain": [
       "9640"
      ]
     },
     "execution_count": 16,
     "metadata": {},
     "output_type": "execute_result"
    }
   ],
   "source": [
    "len(newdf)"
   ]
  },
  {
   "cell_type": "code",
   "execution_count": null,
   "id": "10e70a50-ef72-4b7c-ae4a-23f64fb3b130",
   "metadata": {},
   "outputs": [],
   "source": []
  }
 ],
 "metadata": {
  "kernelspec": {
   "display_name": "kladata",
   "language": "python",
   "name": "kladata"
  },
  "language_info": {
   "codemirror_mode": {
    "name": "ipython",
    "version": 3
   },
   "file_extension": ".py",
   "mimetype": "text/x-python",
   "name": "python",
   "nbconvert_exporter": "python",
   "pygments_lexer": "ipython3",
   "version": "3.12.7"
  }
 },
 "nbformat": 4,
 "nbformat_minor": 5
}
